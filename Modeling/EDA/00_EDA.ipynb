{
 "cells": [
  {
   "cell_type": "code",
   "execution_count": 53,
   "id": "7ae7602a",
   "metadata": {},
   "outputs": [],
   "source": [
    "import pandas as pd\n",
    "import matplotlib.pyplot as plt\n",
    "import seaborn as sns\n",
    "import numpy as np\n",
    "import re\n",
    "import ast\n",
    "import string\n",
    "from sklearn.feature_extraction.text import CountVectorizer,TfidfVectorizer\n",
    "from textblob import TextBlob\n",
    "import json"
   ]
  },
  {
   "cell_type": "code",
   "execution_count": 54,
   "id": "a08e5437",
   "metadata": {},
   "outputs": [],
   "source": [
    "df = pd.read_csv('../Data/Raw/amazon_reviews.csv')"
   ]
  },
  {
   "cell_type": "markdown",
   "id": "35f48cf8",
   "metadata": {},
   "source": [
    "Let's check types"
   ]
  },
  {
   "cell_type": "code",
   "execution_count": 55,
   "id": "f7a70797",
   "metadata": {},
   "outputs": [
    {
     "data": {
      "text/plain": [
       "userName        object\n",
       "verified          bool\n",
       "itemName        object\n",
       "description     object\n",
       "image           object\n",
       "brand           object\n",
       "feature         object\n",
       "category        object\n",
       "price           object\n",
       "rating         float64\n",
       "reviewTime      object\n",
       "summary         object\n",
       "reviewText      object\n",
       "vote             int64\n",
       "dtype: object"
      ]
     },
     "execution_count": 55,
     "metadata": {},
     "output_type": "execute_result"
    }
   ],
   "source": [
    "df.dtypes"
   ]
  },
  {
   "cell_type": "markdown",
   "id": "0ec4678e",
   "metadata": {},
   "source": [
    "Let's check nans in our data"
   ]
  },
  {
   "cell_type": "code",
   "execution_count": 56,
   "id": "2233da00",
   "metadata": {},
   "outputs": [
    {
     "data": {
      "text/plain": [
       "price          13.49\n",
       "brand           0.70\n",
       "reviewText      0.08\n",
       "summary         0.04\n",
       "userName        0.02\n",
       "description     0.00\n",
       "itemName        0.00\n",
       "verified        0.00\n",
       "image           0.00\n",
       "feature         0.00\n",
       "category        0.00\n",
       "rating          0.00\n",
       "reviewTime      0.00\n",
       "vote            0.00\n",
       "dtype: float64"
      ]
     },
     "execution_count": 56,
     "metadata": {},
     "output_type": "execute_result"
    }
   ],
   "source": [
    "(df.isna().sum().sort_values(ascending=False) / len(df) * 100).round(2)"
   ]
  },
  {
   "cell_type": "markdown",
   "id": "f23bdf6a",
   "metadata": {},
   "source": [
    "Filling nans"
   ]
  },
  {
   "cell_type": "code",
   "execution_count": 57,
   "id": "88f48bd8",
   "metadata": {},
   "outputs": [],
   "source": [
    "def price_to_float(price):\n",
    "    if isinstance(price, str):\n",
    "        try:\n",
    "            return float(price.replace('$', ''))\n",
    "        except ValueError:\n",
    "            return np.nan\n",
    "\n",
    "df['price']= df['price'].apply(price_to_float)"
   ]
  },
  {
   "cell_type": "code",
   "execution_count": 58,
   "id": "2c7d5e15",
   "metadata": {},
   "outputs": [],
   "source": [
    "df.drop(columns=['vote','image'],axis=1, inplace=True)\n",
    "df = df.replace(r'^\\s*$', np.nan, regex=True) \\\n",
    "       .dropna(subset=['itemName','brand','userName'],how='any')"
   ]
  },
  {
   "cell_type": "code",
   "execution_count": 59,
   "id": "f8c18217",
   "metadata": {},
   "outputs": [],
   "source": [
    "cols=['userName','itemName','brand']\n",
    "for col in cols:\n",
    "    df[col]=df[col].str.lower().str.strip()"
   ]
  },
  {
   "cell_type": "markdown",
   "id": "64e814b6",
   "metadata": {},
   "source": [
    "Same products but with different prices"
   ]
  },
  {
   "cell_type": "code",
   "execution_count": 60,
   "id": "5edcfe01",
   "metadata": {},
   "outputs": [
    {
     "data": {
      "text/plain": [
       "108188"
      ]
     },
     "execution_count": 60,
     "metadata": {},
     "output_type": "execute_result"
    }
   ],
   "source": [
    "df['itemName'].nunique() "
   ]
  },
  {
   "cell_type": "code",
   "execution_count": 61,
   "id": "24314cdb",
   "metadata": {},
   "outputs": [],
   "source": [
    "seen = {}\n",
    "for idx, row in df.iterrows():\n",
    "    name = row[\"itemName\"]\n",
    "    if name in seen:\n",
    "        df.at[idx, \"price\"] = seen[name]\n",
    "    else:\n",
    "        seen[name] = row[\"price\"]"
   ]
  },
  {
   "cell_type": "code",
   "execution_count": 62,
   "id": "08b19391",
   "metadata": {},
   "outputs": [],
   "source": [
    "seen_desc = {}\n",
    "for idx, row in df.iterrows():\n",
    "    desc = row[\"description\"]\n",
    "    if desc in seen_desc:\n",
    "        df.at[idx, \"description\"] = seen_desc[desc]\n",
    "    else:\n",
    "        seen_desc[desc] = row[\"description\"]"
   ]
  },
  {
   "cell_type": "code",
   "execution_count": 63,
   "id": "a1cce6a5",
   "metadata": {},
   "outputs": [
    {
     "data": {
      "text/plain": [
       "108188"
      ]
     },
     "execution_count": 63,
     "metadata": {},
     "output_type": "execute_result"
    }
   ],
   "source": [
    "df['itemName'].nunique() "
   ]
  },
  {
   "cell_type": "code",
   "execution_count": 64,
   "id": "76cc96bd",
   "metadata": {},
   "outputs": [
    {
     "data": {
      "text/plain": [
       "108188"
      ]
     },
     "execution_count": 64,
     "metadata": {},
     "output_type": "execute_result"
    }
   ],
   "source": [
    "df[['itemName','price']].drop_duplicates().shape[0]"
   ]
  },
  {
   "cell_type": "markdown",
   "id": "1c1b05b7",
   "metadata": {},
   "source": [
    "Filling price nans"
   ]
  },
  {
   "cell_type": "code",
   "execution_count": 65,
   "id": "508c7572",
   "metadata": {},
   "outputs": [],
   "source": [
    "category_median = df.groupby('category')['price'].transform('median')\n",
    "df['price'] = df['price'].fillna(category_median)"
   ]
  },
  {
   "cell_type": "code",
   "execution_count": 66,
   "id": "20fbd6f3",
   "metadata": {},
   "outputs": [
    {
     "data": {
      "text/plain": [
       "<Axes: xlabel='userName'>"
      ]
     },
     "execution_count": 66,
     "metadata": {},
     "output_type": "execute_result"
    },
    {
     "data": {
      "image/png": "[encoded data removed]",
      "text/plain": [
       "<Figure size 1000x600 with 1 Axes>"
      ]
     },
     "metadata": {},
     "output_type": "display_data"
    }
   ],
   "source": [
    "df['userName'].value_counts().head(10).plot(kind='bar', figsize=(10, 6))"
   ]
  },
  {
   "cell_type": "markdown",
   "id": "3270d68a",
   "metadata": {},
   "source": [
    "As we can there is a huge problem with both Amazon Customer and Kindle Customer"
   ]
  },
  {
   "cell_type": "code",
   "execution_count": 67,
   "id": "085dcee5",
   "metadata": {},
   "outputs": [],
   "source": [
    "blocked_names = ['amazon customer', 'kindle customer', 'anonymus']\n",
    "\n",
    "df = df[~df['userName'].str.lower().isin(blocked_names)]"
   ]
  },
  {
   "cell_type": "code",
   "execution_count": 68,
   "id": "1c97611c",
   "metadata": {},
   "outputs": [
    {
     "data": {
      "text/plain": [
       "userName\n",
       "mike        770\n",
       "john        660\n",
       "chris       586\n",
       "michael     549\n",
       "david       538\n",
       "susan       513\n",
       "steve       437\n",
       "jennifer    436\n",
       "lisa        425\n",
       "linda       423\n",
       "Name: count, dtype: int64"
      ]
     },
     "execution_count": 68,
     "metadata": {},
     "output_type": "execute_result"
    }
   ],
   "source": [
    "df['userName'].value_counts().head(10)"
   ]
  },
  {
   "cell_type": "code",
   "execution_count": 69,
   "id": "ef68f406",
   "metadata": {},
   "outputs": [
    {
     "data": {
      "text/plain": [
       "<Axes: xlabel='category'>"
      ]
     },
     "execution_count": 69,
     "metadata": {},
     "output_type": "execute_result"
    },
    {
     "data": {
      "image/png": "[encoded data removed]",
      "text/plain": [
       "<Figure size 1000x600 with 1 Axes>"
      ]
     },
     "metadata": {},
     "output_type": "display_data"
    }
   ],
   "source": [
    "df.groupby('category').size().plot(kind='bar', figsize=(10, 6))"
   ]
  },
  {
   "cell_type": "code",
   "execution_count": 70,
   "id": "a4bdf8b3",
   "metadata": {},
   "outputs": [
    {
     "data": {
      "text/plain": [
       "category                   \n",
       "Pet_Supplies                   176828\n",
       "Grocery_and_Gourmet_Food        92691\n",
       "Patio_Lawn_and_Garden           60415\n",
       "Office_Products                 58634\n",
       "Cell_Phones_and_Accessories     39642\n",
       "Arts_Crafts_and_Sewing          32322\n",
       "Musical_Instruments             16423\n",
       "Prime_Pantry                    13973\n",
       "Video_Games                     11736\n",
       "Industrial_and_Scientific        5816\n",
       "All_Beauty                        431\n",
       "Software                          238\n",
       "Appliances                        209\n",
       "Digital_Music                      65\n",
       "AMAZON_FASHION                      6\n",
       "Name: count, dtype: int64"
      ]
     },
     "execution_count": 70,
     "metadata": {},
     "output_type": "execute_result"
    }
   ],
   "source": [
    "df[['category']].value_counts()"
   ]
  },
  {
   "cell_type": "markdown",
   "id": "97689de8",
   "metadata": {},
   "source": [
    "## TEXT ANALYSIS"
   ]
  },
  {
   "cell_type": "code",
   "execution_count": 71,
   "id": "ee30a7f1",
   "metadata": {},
   "outputs": [],
   "source": [
    "import html\n",
    "import re\n",
    "import unicodedata"
   ]
  },
  {
   "cell_type": "code",
   "execution_count": 72,
   "id": "2aa528a6",
   "metadata": {},
   "outputs": [],
   "source": [
    "df['reviewText']=df['reviewText'].fillna('')\n",
    "df['summary']=df['summary'].fillna('')\n",
    "df['description']=df['description'].fillna('')"
   ]
  },
  {
   "cell_type": "code",
   "execution_count": 73,
   "id": "56ae0a58",
   "metadata": {},
   "outputs": [],
   "source": [
    "RE = {\n",
    "    \"quotes\":        re.compile(r'[″\"“”]+'),\n",
    "    \"weird_signs\":   re.compile(r\"[′'‘’;*:~+]+\"),\n",
    "    \"whitespace\":    re.compile(r\"\\s+\"),\n",
    "    \"html_tags\":     re.compile(r\"<.*?>\"),\n",
    "    \"newlines\":      re.compile(r\"[\\r\\n]+\"),\n",
    "    \"brackets\":      re.compile(r\"[()\\[\\]{}<>（）［］]\"),\n",
    "    \"endline\":       re.compile(r\"[\\\\]+\"),\n",
    "    \"symbols_misc\":  re.compile(r\"[|*#@^]\"),\n",
    "    \"ampersand\":     re.compile(r\"[&]\"),\n",
    "    \"outer_quotes\":  re.compile(r'^\\s*\"+\\s*|\\s*\"+\\s*$'),\n",
    "    \"leading_weird\": re.compile(r\"^(?:#\\s*\\d+\\s*|\\d+\\s*[xX]\\s*)\"),\n",
    "    \"multi_dot\":     re.compile(r\"\\.{2,}\"),\n",
    "    \"dash_like\":     re.compile(r\"[‐-‒–—―]+\"),\n",
    "    \"multi_dash\":    re.compile(r\"-{2,}\"),\n",
    "    \"slashes\":       re.compile(r\"[\\\\/]+\"),\n",
    "    \"bang_q\":        re.compile(r\"([!?])\\1+\"),\n",
    "    \"sep_space\":     re.compile(r\"\\s*([/\\-\\\\])\\s*\"),\n",
    "    \"edge_junk\":     re.compile(r'^[\\s/\\-\\\\]+|[\\s/\\-\\\\]+$'),\n",
    "}\n"
   ]
  },
  {
   "cell_type": "code",
   "execution_count": null,
   "id": "3130de15",
   "metadata": {},
   "outputs": [],
   "source": [
    "\n",
    "def clean_item_name(val):\n",
    "    if pd.isna(val):  \n",
    "        return \"\"\n",
    "    s = str(val).strip()\n",
    "    if s.startswith(\"[\") and s.endswith(\"]\"):\n",
    "        try:\n",
    "            parsed = ast.literal_eval(s)\n",
    "            if isinstance(parsed, list) and parsed:\n",
    "                s = str(parsed[0])  \n",
    "        except Exception:\n",
    "            pass\n",
    "    s   = html.unescape(s)\n",
    "    s = unicodedata.normalize(\"NFKC\", s)\n",
    "\n",
    "\n",
    "    s = RE[\"quotes\"].sub('\"', s)             \n",
    "    s = RE[\"endline\"].sub(\" \", s)           \n",
    "    s = RE[\"outer_quotes\"].sub(\"\", s)        \n",
    "    s = RE[\"weird_signs\"].sub(\"\", s)         \n",
    "    s = RE[\"dash_like\"].sub(\"-\", s)         \n",
    "    s = RE[\"multi_dash\"].sub(\"-\", s)         \n",
    "    s = RE[\"multi_dot\"].sub(\".\", s)         \n",
    "    s = RE[\"ampersand\"].sub(\"and\", s)       \n",
    "    s = RE[\"symbols_misc\"].sub(\" \", s)       \n",
    "    s = RE[\"slashes\"].sub(\" \", s)         \n",
    "    s = RE[\"bang_q\"].sub(\".\", s)             \n",
    "    s = RE[\"sep_space\"].sub(r\"\\1\", s)       \n",
    "\n",
    "\n",
    "    s = RE[\"html_tags\"].sub(\"\", s)          \n",
    "    s = RE[\"newlines\"].sub(\" \", s)          \n",
    "    s = RE[\"brackets\"].sub(\"\", s)            \n",
    "\n",
    "   \n",
    "    s = RE[\"whitespace\"].sub(\" \", s).strip()\n",
    "    s = RE[\"edge_junk\"].sub(\"\", s).strip()\n",
    "    s = RE[\"leading_weird\"].sub(\"\", s).lstrip()\n",
    "\n",
    "    return s.lower()"
   ]
  },
  {
   "cell_type": "code",
   "execution_count": 75,
   "id": "62a036d7",
   "metadata": {},
   "outputs": [],
   "source": [
    "df['itemName']=df['itemName'].apply(clean_item_name)\n",
    "df['reviewText']=df['reviewText'].apply(clean_item_name)\n",
    "df['summary']=df['summary'].apply(clean_item_name)\n",
    "df['description']=df['description'].apply(clean_item_name)"
   ]
  },
  {
   "cell_type": "code",
   "execution_count": 76,
   "id": "6a796305",
   "metadata": {},
   "outputs": [
    {
     "name": "stdout",
     "output_type": "stream",
     "text": [
      "Average review length: 32.13 tokens\n",
      "Minimum review length: 0 tokens\n",
      "Maximum review length: 5009 tokens\n"
     ]
    },
    {
     "data": {
      "image/png": "[encoded data removed]",
      "text/plain": [
       "<Figure size 640x480 with 1 Axes>"
      ]
     },
     "metadata": {},
     "output_type": "display_data"
    }
   ],
   "source": [
    "df['review_len'] = df['reviewText'].str.split().apply(len)\n",
    "\n",
    "print(f\"Average review length: {df['review_len'].mean():.2f} tokens\")\n",
    "print( f\"Minimum review length: {df['review_len'].min()} tokens\")\n",
    "print(f\"Maximum review length: {df['review_len'].max()} tokens\")\n",
    "\n",
    "plt.figure()\n",
    "df['review_len'].hist(bins=50)\n",
    "plt.xlabel(\"Number of tokens\")\n",
    "plt.ylabel(\"Count\")\n",
    "plt.title(\"Review Text Length Distribution\")\n",
    "plt.show()"
   ]
  },
  {
   "cell_type": "code",
   "execution_count": 77,
   "id": "ae14f451",
   "metadata": {},
   "outputs": [
    {
     "data": {
      "text/plain": [
       "<Axes: xlabel='rating'>"
      ]
     },
     "execution_count": 77,
     "metadata": {},
     "output_type": "execute_result"
    },
    {
     "data": {
      "image/png": "[encoded data removed]",
      "text/plain": [
       "<Figure size 640x480 with 1 Axes>"
      ]
     },
     "metadata": {},
     "output_type": "display_data"
    }
   ],
   "source": [
    "df.groupby('rating')['review_len'].mean().plot(kind='bar')"
   ]
  },
  {
   "cell_type": "code",
   "execution_count": 78,
   "id": "73f74414",
   "metadata": {},
   "outputs": [
    {
     "name": "stdout",
     "output_type": "stream",
     "text": [
      "[('works great', 12240), ('great product', 10009), ('good quality', 6720), ('great price', 6252), ('dog loves', 5773), ('good product', 5448), ('highly recommend', 5315), ('dogs love', 5075), ('good price', 4849), ('easy use', 4349), ('really like', 3966), ('cats love', 3642), ('long time', 3601), ('dont know', 3485), ('year old', 3112), ('great quality', 3109), ('high quality', 2960), ('make sure', 2897), ('ive used', 2830), ('really good', 2733)]\n"
     ]
    }
   ],
   "source": [
    "vectorizer = CountVectorizer(ngram_range=(2,3), max_df=0.95, stop_words='english',min_df=2,\n",
    "                            analyzer = 'word')\n",
    "X = vectorizer.fit_transform(df['reviewText'])\n",
    "bigrams = zip(vectorizer.get_feature_names_out(), X.sum(axis=0).A1)\n",
    "print(sorted(bigrams, key=lambda x: -x[1])[:20])"
   ]
  },
  {
   "cell_type": "markdown",
   "id": "8f179401",
   "metadata": {},
   "source": [
    "As we can see  most of reviews are positive"
   ]
  },
  {
   "cell_type": "code",
   "execution_count": 79,
   "id": "189d35f3",
   "metadata": {},
   "outputs": [],
   "source": [
    "\n",
    "tfidf = TfidfVectorizer(stop_words='english', ngram_range=(2, 3),\n",
    "                        analyzer='word',max_df=0.95, min_df=2)\n",
    "X_tfidf = tfidf.fit_transform(df['reviewText'])\n"
   ]
  },
  {
   "cell_type": "code",
   "execution_count": 80,
   "id": "10538984",
   "metadata": {},
   "outputs": [
    {
     "name": "stdout",
     "output_type": "stream",
     "text": [
      "[('great product', 3762.8203978541314), ('works great', 3700.217906698497), ('good product', 2461.706544816748), ('dog loves', 1754.5812800415968), ('good quality', 1647.90106639072), ('dogs love', 1644.753141321386), ('great price', 1600.0333308363467), ('good price', 1344.0946706674965), ('cats love', 1184.1872524847822), ('great quality', 851.707123873379), ('easy use', 837.3436121533715), ('work great', 734.6657243031652), ('cat loves', 696.9651987098598), ('excellent product', 693.9808459245281), ('does job', 687.878234167698), ('worked great', 655.780192985426), ('highly recommend', 637.5700364776108), ('great value', 620.4777979808221), ('works good', 608.3051337787363), ('good stuff', 583.7251890843843)]\n"
     ]
    }
   ],
   "source": [
    "features = tfidf.get_feature_names_out()\n",
    "sums = X_tfidf.sum(axis=0)\n",
    "term_weights = [(features[i], sums[0, i]) for i in range(X_tfidf.shape[1])]\n",
    "\n",
    "\n",
    "sorted_terms = sorted(term_weights, key=lambda x: x[1], reverse=True)\n",
    "print(sorted_terms[:20])\n"
   ]
  },
  {
   "cell_type": "code",
   "execution_count": 81,
   "id": "7dc3e948",
   "metadata": {},
   "outputs": [],
   "source": [
    "\n",
    "# df['sentiment'] = df['reviewText'].apply(lambda t: TextBlob(t).sentiment.polarity)\n",
    "# df['sentiment'].hist(bins=50)\n",
    "# plt.title(\"Review Polarity Distribution\")\n",
    "# plt.show()"
   ]
  },
  {
   "cell_type": "code",
   "execution_count": 82,
   "id": "6f5fa501",
   "metadata": {},
   "outputs": [
    {
     "name": "stdout",
     "output_type": "stream",
     "text": [
      "Average review length: 12.50 tokens\n",
      "Minimum review length: 1 tokens\n",
      "Maximum review length: 107 tokens\n"
     ]
    },
    {
     "data": {
      "image/png": "[encoded data removed]",
      "text/plain": [
       "<Figure size 640x480 with 1 Axes>"
      ]
     },
     "metadata": {},
     "output_type": "display_data"
    }
   ],
   "source": [
    "df['itemName_len'] = df['itemName'].str.split().apply(len)\n",
    "\n",
    "print(f\"Average review length: {df['itemName_len'].mean():.2f} tokens\")\n",
    "print( f\"Minimum review length: {df['itemName_len'].min()} tokens\")\n",
    "print(f\"Maximum review length: {df['itemName_len'].max()} tokens\")\n",
    "\n",
    "plt.figure()\n",
    "df['itemName_len'].hist(bins=50)\n",
    "plt.xlabel(\"Number of tokens\")\n",
    "plt.ylabel(\"Count\")\n",
    "plt.title(\"itemName Text Length Distribution\")\n",
    "plt.show()"
   ]
  },
  {
   "cell_type": "code",
   "execution_count": 83,
   "id": "b92e7bea",
   "metadata": {},
   "outputs": [
    {
     "name": "stdout",
     "output_type": "stream",
     "text": [
      "Average review length: 1.60 tokens\n",
      "Minimum review length: 1 tokens\n",
      "Maximum review length: 73 tokens\n"
     ]
    },
    {
     "data": {
      "image/png": "[encoded data removed]",
      "text/plain": [
       "<Figure size 640x480 with 1 Axes>"
      ]
     },
     "metadata": {},
     "output_type": "display_data"
    }
   ],
   "source": [
    "df['brand_len'] = df['brand'].str.split().apply(len)\n",
    "\n",
    "print(f\"Average review length: {df['brand_len'].mean():.2f} tokens\")\n",
    "print( f\"Minimum review length: {df['brand_len'].min()} tokens\")\n",
    "print(f\"Maximum review length: {df['brand_len'].max()} tokens\")\n",
    "\n",
    "plt.figure()\n",
    "df['brand_len'].hist(bins=50)\n",
    "plt.xlabel(\"Number of tokens\")\n",
    "plt.ylabel(\"Count\")\n",
    "plt.title(\"Brand Text Length Distribution\")\n",
    "plt.show()"
   ]
  },
  {
   "cell_type": "code",
   "execution_count": 84,
   "id": "12d55680",
   "metadata": {},
   "outputs": [
    {
     "name": "stdout",
     "output_type": "stream",
     "text": [
      "Average review length: 72.62 tokens\n",
      "Minimum review length: 0 tokens\n",
      "Maximum review length: 1239 tokens\n"
     ]
    },
    {
     "data": {
      "image/png": "[encoded data removed]",
      "text/plain": [
       "<Figure size 640x480 with 1 Axes>"
      ]
     },
     "metadata": {},
     "output_type": "display_data"
    }
   ],
   "source": [
    "df['description_len'] = df['description'].str.split().apply(len)\n",
    "\n",
    "print(f\"Average review length: {df['description_len'].mean():.2f} tokens\")\n",
    "print( f\"Minimum review length: {df['description_len'].min()} tokens\")\n",
    "print(f\"Maximum review length: {df['description_len'].max()} tokens\")\n",
    "\n",
    "plt.figure()\n",
    "df['description_len'].hist(bins=50)\n",
    "plt.xlabel(\"Number of tokens\")\n",
    "plt.ylabel(\"Count\")\n",
    "plt.title(\"description Text Length Distribution\")\n",
    "plt.show()"
   ]
  },
  {
   "cell_type": "code",
   "execution_count": 85,
   "id": "f2434cc6",
   "metadata": {},
   "outputs": [],
   "source": [
    "def fake_description(row):\n",
    "    brand = row.get(\"brand\", \"\").strip()\n",
    "    item  = row.get(\"itemName\", \"\").strip()\n",
    "    category= row.get(\"category\", \"\").strip()\n",
    "    if brand and item and category:\n",
    "        return f\"This is a {item} from {brand} in the category of {category}.\"\n",
    "    elif brand and item:\n",
    "        return f\"This is a {item} from {brand}.\"\n",
    "    elif item and category:\n",
    "        return f\"This is a {item} in the category of {category}.\"\n",
    "    elif brand and category:\n",
    "        return f\"This is a product from {brand} in the category of {category}.\"\n",
    "    elif item:\n",
    "        return f\"This is a {item}.\"\n",
    "    elif brand:\n",
    "        return f\"This is a product from {brand}.\"\n",
    "    elif category:\n",
    "        return f\"This is a product in the category of {category}.\"\n",
    "    else:\n",
    "        return \"No description available.\""
   ]
  },
  {
   "cell_type": "code",
   "execution_count": 86,
   "id": "9751e0c1",
   "metadata": {},
   "outputs": [],
   "source": [
    "df[\"description\"] = df.apply(\n",
    "    lambda r: r[\"description\"] if r['description_len']!=0 and r['description']!='[]' else fake_description(r),\n",
    "    axis=1\n",
    ")"
   ]
  },
  {
   "cell_type": "code",
   "execution_count": 87,
   "id": "b3b9a2f6",
   "metadata": {},
   "outputs": [
    {
     "data": {
      "text/plain": [
       "1"
      ]
     },
     "execution_count": 87,
     "metadata": {},
     "output_type": "execute_result"
    }
   ],
   "source": [
    "df['description_len'] = df['description'].str.split().apply(len)\n",
    "df['description_len'].min()"
   ]
  },
  {
   "cell_type": "code",
   "execution_count": 88,
   "id": "212fd66b",
   "metadata": {},
   "outputs": [],
   "source": [
    "def fake_review(row):\n",
    "    return f\"This is a review for {row['itemName']} by {row['brand']}. The user {row['userName']} rated it {row['rating']} stars.\"\n",
    "df[\"reviewText\"] = df.apply(\n",
    "    lambda r: r[\"reviewText\"] if r['review_len']!=0 else fake_review(r),\n",
    "    axis=1\n",
    ")"
   ]
  },
  {
   "cell_type": "code",
   "execution_count": 89,
   "id": "6500ad9f",
   "metadata": {},
   "outputs": [
    {
     "data": {
      "text/plain": [
       "1"
      ]
     },
     "execution_count": 89,
     "metadata": {},
     "output_type": "execute_result"
    }
   ],
   "source": [
    "df['review_len'] = df['reviewText'].str.split().apply(len)\n",
    "df['review_len'].min()"
   ]
  },
  {
   "cell_type": "markdown",
   "id": "980a70e5",
   "metadata": {},
   "source": [
    "Saving in json"
   ]
  },
  {
   "cell_type": "code",
   "execution_count": 90,
   "id": "c28946ca",
   "metadata": {},
   "outputs": [],
   "source": [
    "df.rename(columns={'itemName':'item_name',\n",
    "                   'userName':'user_name',\n",
    "                   'reviewText':'review_text'},inplace=True)"
   ]
  },
  {
   "cell_type": "code",
   "execution_count": 91,
   "id": "97de6caa",
   "metadata": {},
   "outputs": [],
   "source": [
    "df['user_id'], user_unique = pd.factorize(df['user_name'])\n",
    "df['item_id'], item_unique = pd.factorize(df['item_name'])"
   ]
  },
  {
   "cell_type": "code",
   "execution_count": 92,
   "id": "e59efd7e",
   "metadata": {},
   "outputs": [],
   "source": [
    "df_prod=df[['item_id','item_name','brand','price','category','description','review_text','rating']]"
   ]
  },
  {
   "cell_type": "code",
   "execution_count": 93,
   "id": "19a864e8",
   "metadata": {},
   "outputs": [
    {
     "data": {
      "text/html": [
       "<div>\n",
       "<style scoped>\n",
       "    .dataframe tbody tr th:only-of-type {\n",
       "        vertical-align: middle;\n",
       "    }\n",
       "\n",
       "    .dataframe tbody tr th {\n",
       "        vertical-align: top;\n",
       "    }\n",
       "\n",
       "    .dataframe thead th {\n",
       "        text-align: right;\n",
       "    }\n",
       "</style>\n",
       "<table border=\"1\" class=\"dataframe\">\n",
       "  <thead>\n",
       "    <tr style=\"text-align: right;\">\n",
       "      <th></th>\n",
       "      <th>item_id</th>\n",
       "      <th>item_name</th>\n",
       "      <th>brand</th>\n",
       "      <th>category</th>\n",
       "      <th>description</th>\n",
       "      <th>price</th>\n",
       "      <th>number_of_ratings</th>\n",
       "      <th>avg_rating</th>\n",
       "      <th>reviews</th>\n",
       "    </tr>\n",
       "  </thead>\n",
       "  <tbody>\n",
       "    <tr>\n",
       "      <th>0</th>\n",
       "      <td>0</td>\n",
       "      <td>prince of peace organic tea, oolong, 100 tea bags</td>\n",
       "      <td>prince of peace</td>\n",
       "      <td>Grocery_and_Gourmet_Food</td>\n",
       "      <td>prince of peace enterprises, inc., founded in ...</td>\n",
       "      <td>6.40</td>\n",
       "      <td>87</td>\n",
       "      <td>4.586207</td>\n",
       "      <td>[perfect for kombucha, perfect for kombucha, g...</td>\n",
       "    </tr>\n",
       "    <tr>\n",
       "      <th>1</th>\n",
       "      <td>1</td>\n",
       "      <td>pet champion adjustable no-pull harness, colla...</td>\n",
       "      <td>pet champion</td>\n",
       "      <td>Pet_Supplies</td>\n",
       "      <td>the pet champion large extra large 22-36 inch ...</td>\n",
       "      <td>7.99</td>\n",
       "      <td>11</td>\n",
       "      <td>3.909091</td>\n",
       "      <td>[finally a harness that fits my puppy. i reall...</td>\n",
       "    </tr>\n",
       "    <tr>\n",
       "      <th>2</th>\n",
       "      <td>2</td>\n",
       "      <td>koh-i-noor progresso woodless colored 24-penci...</td>\n",
       "      <td>koh-i-noor</td>\n",
       "      <td>Arts_Crafts_and_Sewing</td>\n",
       "      <td>koh-i-noor progresso woodless colored 24-penci...</td>\n",
       "      <td>14.18</td>\n",
       "      <td>2</td>\n",
       "      <td>5.000000</td>\n",
       "      <td>[i love them. i bought them at micheals our of...</td>\n",
       "    </tr>\n",
       "    <tr>\n",
       "      <th>3</th>\n",
       "      <td>3</td>\n",
       "      <td>parker urban premium ebony metal chiseled, bal...</td>\n",
       "      <td>parker</td>\n",
       "      <td>Office_Products</td>\n",
       "      <td>stunning craftsmanship based on a classic styl...</td>\n",
       "      <td>10.99</td>\n",
       "      <td>3</td>\n",
       "      <td>5.000000</td>\n",
       "      <td>[i love this pen! i love the shape of it, the ...</td>\n",
       "    </tr>\n",
       "    <tr>\n",
       "      <th>4</th>\n",
       "      <td>4</td>\n",
       "      <td>merrick whole earth farms adult recipe dry dog...</td>\n",
       "      <td>merrick</td>\n",
       "      <td>Pet_Supplies</td>\n",
       "      <td>merrick whole earth farms is a nutritious dog ...</td>\n",
       "      <td>13.92</td>\n",
       "      <td>6</td>\n",
       "      <td>4.333333</td>\n",
       "      <td>[we accidentally purchased this instead of our...</td>\n",
       "    </tr>\n",
       "    <tr>\n",
       "      <th>...</th>\n",
       "      <td>...</td>\n",
       "      <td>...</td>\n",
       "      <td>...</td>\n",
       "      <td>...</td>\n",
       "      <td>...</td>\n",
       "      <td>...</td>\n",
       "      <td>...</td>\n",
       "      <td>...</td>\n",
       "      <td>...</td>\n",
       "    </tr>\n",
       "    <tr>\n",
       "      <th>105712</th>\n",
       "      <td>105011</td>\n",
       "      <td>3d pla 1.75mm blue plastic 3d printer printing...</td>\n",
       "      <td>labelpros</td>\n",
       "      <td>Industrial_and_Scientific</td>\n",
       "      <td>This is a 3d pla 1.75mm blue plastic 3d printe...</td>\n",
       "      <td>18.96</td>\n",
       "      <td>1</td>\n",
       "      <td>5.000000</td>\n",
       "      <td>[this is a very nice shade of blue. i really l...</td>\n",
       "    </tr>\n",
       "    <tr>\n",
       "      <th>105713</th>\n",
       "      <td>105012</td>\n",
       "      <td>tangkula patio furniture outdoor lawn backyard...</td>\n",
       "      <td>tangkula</td>\n",
       "      <td>Patio_Lawn_and_Garden</td>\n",
       "      <td>descriptionthis is our new tangkula outdoor pa...</td>\n",
       "      <td>22.41</td>\n",
       "      <td>1</td>\n",
       "      <td>5.000000</td>\n",
       "      <td>[i am rating this product amongst daybeds. it ...</td>\n",
       "    </tr>\n",
       "    <tr>\n",
       "      <th>105714</th>\n",
       "      <td>105013</td>\n",
       "      <td>galaxy wireless compatible for zte zmax pro ca...</td>\n",
       "      <td>galaxy wireless</td>\n",
       "      <td>Cell_Phones_and_Accessories</td>\n",
       "      <td>description this protective case offers the ul...</td>\n",
       "      <td>6.99</td>\n",
       "      <td>1</td>\n",
       "      <td>5.000000</td>\n",
       "      <td>[nice case. too bad the phones suck.]</td>\n",
       "    </tr>\n",
       "    <tr>\n",
       "      <th>105715</th>\n",
       "      <td>105014</td>\n",
       "      <td>icefang tactical k9 working dog collar,metal b...</td>\n",
       "      <td>icefang</td>\n",
       "      <td>Pet_Supplies</td>\n",
       "      <td>This is a icefang tactical k9 working dog coll...</td>\n",
       "      <td>8.99</td>\n",
       "      <td>1</td>\n",
       "      <td>4.000000</td>\n",
       "      <td>[i love the quality and construction 5 stars o...</td>\n",
       "    </tr>\n",
       "    <tr>\n",
       "      <th>105716</th>\n",
       "      <td>105015</td>\n",
       "      <td>pdp titanfall 2 official marauder srs stereo h...</td>\n",
       "      <td>by\\n    \\n    pdp</td>\n",
       "      <td>Video_Games</td>\n",
       "      <td>bring down the sky yet again in the fast-paced...</td>\n",
       "      <td>7.43</td>\n",
       "      <td>1</td>\n",
       "      <td>4.000000</td>\n",
       "      <td>[these are a moderately good stereo headset fo...</td>\n",
       "    </tr>\n",
       "  </tbody>\n",
       "</table>\n",
       "<p>105717 rows × 9 columns</p>\n",
       "</div>"
      ],
      "text/plain": [
       "        item_id                                          item_name  \\\n",
       "0             0  prince of peace organic tea, oolong, 100 tea bags   \n",
       "1             1  pet champion adjustable no-pull harness, colla...   \n",
       "2             2  koh-i-noor progresso woodless colored 24-penci...   \n",
       "3             3  parker urban premium ebony metal chiseled, bal...   \n",
       "4             4  merrick whole earth farms adult recipe dry dog...   \n",
       "...         ...                                                ...   \n",
       "105712   105011  3d pla 1.75mm blue plastic 3d printer printing...   \n",
       "105713   105012  tangkula patio furniture outdoor lawn backyard...   \n",
       "105714   105013  galaxy wireless compatible for zte zmax pro ca...   \n",
       "105715   105014  icefang tactical k9 working dog collar,metal b...   \n",
       "105716   105015  pdp titanfall 2 official marauder srs stereo h...   \n",
       "\n",
       "                    brand                     category  \\\n",
       "0         prince of peace     Grocery_and_Gourmet_Food   \n",
       "1            pet champion                 Pet_Supplies   \n",
       "2              koh-i-noor       Arts_Crafts_and_Sewing   \n",
       "3                  parker              Office_Products   \n",
       "4                 merrick                 Pet_Supplies   \n",
       "...                   ...                          ...   \n",
       "105712          labelpros    Industrial_and_Scientific   \n",
       "105713           tangkula        Patio_Lawn_and_Garden   \n",
       "105714    galaxy wireless  Cell_Phones_and_Accessories   \n",
       "105715            icefang                 Pet_Supplies   \n",
       "105716  by\\n    \\n    pdp                  Video_Games   \n",
       "\n",
       "                                              description  price  \\\n",
       "0       prince of peace enterprises, inc., founded in ...   6.40   \n",
       "1       the pet champion large extra large 22-36 inch ...   7.99   \n",
       "2       koh-i-noor progresso woodless colored 24-penci...  14.18   \n",
       "3       stunning craftsmanship based on a classic styl...  10.99   \n",
       "4       merrick whole earth farms is a nutritious dog ...  13.92   \n",
       "...                                                   ...    ...   \n",
       "105712  This is a 3d pla 1.75mm blue plastic 3d printe...  18.96   \n",
       "105713  descriptionthis is our new tangkula outdoor pa...  22.41   \n",
       "105714  description this protective case offers the ul...   6.99   \n",
       "105715  This is a icefang tactical k9 working dog coll...   8.99   \n",
       "105716  bring down the sky yet again in the fast-paced...   7.43   \n",
       "\n",
       "        number_of_ratings  avg_rating  \\\n",
       "0                      87    4.586207   \n",
       "1                      11    3.909091   \n",
       "2                       2    5.000000   \n",
       "3                       3    5.000000   \n",
       "4                       6    4.333333   \n",
       "...                   ...         ...   \n",
       "105712                  1    5.000000   \n",
       "105713                  1    5.000000   \n",
       "105714                  1    5.000000   \n",
       "105715                  1    4.000000   \n",
       "105716                  1    4.000000   \n",
       "\n",
       "                                                  reviews  \n",
       "0       [perfect for kombucha, perfect for kombucha, g...  \n",
       "1       [finally a harness that fits my puppy. i reall...  \n",
       "2       [i love them. i bought them at micheals our of...  \n",
       "3       [i love this pen! i love the shape of it, the ...  \n",
       "4       [we accidentally purchased this instead of our...  \n",
       "...                                                   ...  \n",
       "105712  [this is a very nice shade of blue. i really l...  \n",
       "105713  [i am rating this product amongst daybeds. it ...  \n",
       "105714              [nice case. too bad the phones suck.]  \n",
       "105715  [i love the quality and construction 5 stars o...  \n",
       "105716  [these are a moderately good stereo headset fo...  \n",
       "\n",
       "[105717 rows x 9 columns]"
      ]
     },
     "execution_count": 93,
     "metadata": {},
     "output_type": "execute_result"
    }
   ],
   "source": [
    "df_prod=(df_prod.groupby(['item_id','item_name','brand','category','description','price']).agg(\n",
    "          number_of_ratings=(\"rating\", \"count\"),\n",
    "          avg_rating=(\"rating\", \"mean\"),\n",
    "          reviews=('review_text',lambda s: [t.strip() for t in s.dropna().astype(str) ])\n",
    "      )\n",
    "      .reset_index())\n",
    "df_prod"
   ]
  },
  {
   "cell_type": "code",
   "execution_count": 95,
   "id": "34fba12e",
   "metadata": {},
   "outputs": [],
   "source": [
    "cols = ['item_id',\"item_name\", \"brand\",\"category\", \"price\", \"reviews\",'avg_rating','number_of_ratings','description']\n",
    "records = df_prod[cols].drop_duplicates(['item_id']).to_dict(orient=\"records\")\n",
    "\n",
    "with open(\"../Data/Cleaned/ProductsRAG.json\", \"w\") as f:\n",
    "    json.dump(records, f, indent=2)"
   ]
  },
  {
   "cell_type": "code",
   "execution_count": 99,
   "id": "1a13784e",
   "metadata": {},
   "outputs": [],
   "source": [
    "df[['user_id','user_name']].drop_duplicates().to_csv('../Data/Cleaned/users.csv',index=False,columns=('user_id','user_name'))\n"
   ]
  },
  {
   "cell_type": "code",
   "execution_count": 96,
   "id": "8531507e",
   "metadata": {},
   "outputs": [],
   "source": [
    "df[['item_id','item_name','category','brand','description','price']].drop_duplicates(subset=['item_id']).to_csv('../Data/Cleaned/items.csv',index=False,columns=('item_id','item_name','category','brand','description','price'))"
   ]
  },
  {
   "cell_type": "code",
   "execution_count": 97,
   "id": "3aaa9a5c",
   "metadata": {},
   "outputs": [],
   "source": [
    "df['purchase_id']=np.arange(0,df.shape[0])\n",
    "df[['purchase_id','user_id','item_id','rating','review_text','verified']].to_csv('../Data/Cleaned/interactions.csv',index=False,columns=('purchase_id','user_id','item_id','rating','review_text','verified'))"
   ]
  }
 ],
 "metadata": {
  "kernelspec": {
   "display_name": "venv",
   "language": "python",
   "name": "python3"
  },
  "language_info": {
   "codemirror_mode": {
    "name": "ipython",
    "version": 3
   },
   "file_extension": ".py",
   "mimetype": "text/x-python",
   "name": "python",
   "nbconvert_exporter": "python",
   "pygments_lexer": "ipython3",
   "version": "3.10.11"
  }
 },
 "nbformat": 4,
 "nbformat_minor": 5
}
